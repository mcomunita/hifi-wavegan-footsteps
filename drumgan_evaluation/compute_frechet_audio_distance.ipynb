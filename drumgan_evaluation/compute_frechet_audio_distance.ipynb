{
 "metadata": {
  "language_info": {
   "codemirror_mode": {
    "name": "ipython",
    "version": 3
   },
   "file_extension": ".py",
   "mimetype": "text/x-python",
   "name": "python",
   "nbconvert_exporter": "python",
   "pygments_lexer": "ipython3",
   "version": "3.9.7"
  },
  "orig_nbformat": 2,
  "kernelspec": {
   "name": "python3",
   "display_name": "Python 3.9.7 64-bit ('.venv': venv)"
  },
  "interpreter": {
   "hash": "a18414266d1fe564a0e177a99f7f802d49b8033beeeff472af87ae486bfa274b"
  }
 },
 "nbformat": 4,
 "nbformat_minor": 2,
 "cells": [
  {
   "cell_type": "code",
   "execution_count": 8,
   "source": [
    "# BEFORE RUNNING: update paths in drumgan_evaluation/shell_scripts/fad.sh (lines 40 and 49)\n",
    "# this notebook will run fad.sh to compute the frechet audio distance\n",
    "\n",
    "import subprocess\n",
    "from datetime import datetime\n",
    "# from drumgan_evaluation.utils.utils import GPU_is_available\n",
    "# from drumgan_evaluation.utils.utils import list_files_abs_path, list_files_in_subfolders, mkdir_in_path\n",
    "import utils.utils as utils"
   ],
   "outputs": [],
   "metadata": {}
  },
  {
   "cell_type": "code",
   "execution_count": null,
   "source": [
    "# configuration dictionary\n",
    "\n",
    "# real samples used to train inception model\n",
    "# \"real_samples_path\": \"/Users/Marco/Documents/OneDrive - Queen Mary, University of London/PHD/REPOS/_footsteps_data/zapsplat_misc_shoes_misc_surfaces_inception_network\",\n",
    "# real samples used to train gan\n",
    "# \"real_samples_path\": \"/Users/Marco/Documents/OneDrive - Queen Mary, University of London/PHD/REPOS/_footsteps_data/zapsplat_pack_footsteps_high_heels_1s_aligned\",\n",
    "# gan synthesised samples\n",
    "# \"synth_samples_path\": \"/Users/Marco/Documents/OneDrive - Queen Mary, University of London/PHD/REPOS/ccwavegan-hifigan-fresh/checkpoints/2021-09-20_13h23m/120k_generated_audio_large\",\n",
    "# \"synth_samples_path\": \"/Users/Marco/Documents/OneDrive - Queen Mary, University of London/PHD/REPOS/ccwavegan-hifigan-fresh/checkpoints/2021-09-20_19h46m/120k_generated_audio_large\",\n",
    "\n",
    "config = {\n",
    "    \"real_samples_path\":    \"/Users/Marco/Documents/OneDrive - Queen Mary, University of London/PHD/REPOS/_footsteps_data/zapsplat_misc_shoes_misc_surfaces_inception_network\", # no end slash \n",
    "    \"synth_samples_path\":   \"/Users/Marco/Documents/OneDrive - Queen Mary, University of London/PHD/REPOS/ccwavegan-hifigan-fresh/checkpoints/2021-09-20_19h46m/120k_generated_audio_large_1s\",\n",
    "    \n",
    "    \"output_path\": \"/Users/Marco/Documents/OneDrive - Queen Mary, University of London/PHD/REPOS/ccwavegan-hifigan-fresh/drumgan_evaluation/evaluation\",\n",
    "    \"output_folder\": \"evaluation_metrics\",\n",
    "}"
   ],
   "outputs": [],
   "metadata": {}
  },
  {
   "cell_type": "code",
   "execution_count": null,
   "source": [
    "# list all real and synthesised samples in csv files\n",
    "real_samples_path = config['real_samples_path']\n",
    "synth_samples_path = config['synth_samples_path']\n",
    "\n",
    "real_files = utils.list_files_in_subfolders(real_samples_path, format='.wav')\n",
    "synth_files = utils.list_files_in_subfolders(synth_samples_path, format='.wav')\n",
    "\n",
    "output_path = utils.mkdir_in_path(config['output_path'], config['output_folder'])\n",
    "output_path = utils.mkdir_in_path(output_path, \"fad\")\n",
    "\n",
    "real_paths_csv = f\"{output_path}/real_audio.csv\"\n",
    "with open(real_paths_csv, \"w\") as f:\n",
    "    for file_path in real_files:\n",
    "        f.write(file_path + '\\n')\n",
    "synth_paths_csv = f\"{output_path}/synth_audio.csv\"\n",
    "with open(synth_paths_csv, \"w\") as f:\n",
    "    for file_path in synth_files:\n",
    "        f.write(file_path + '\\n')"
   ],
   "outputs": [],
   "metadata": {}
  },
  {
   "cell_type": "code",
   "execution_count": null,
   "source": [
    "# run shell script to compute fad\n",
    "# the script will - in turn - run the fad computation from the google_research_fad repo\n",
    "fad = float(subprocess.check_output([\"sh\",\n",
    "                        \"/Users/Marco/Documents/OneDrive - Queen Mary, University of London/PHD/REPOS/ccwavegan-hifigan-fresh/drumgan_evaluation/shell_scripts/fad.sh\",\n",
    "                        \"--real=\"+real_paths_csv,\n",
    "                        \"--synth=\"+synth_paths_csv,\n",
    "                        \"--output=\"+output_path]).decode()[-10:-1])\n",
    "\n",
    "# save result\n",
    "with open(f\"{output_path}/fad_{len(synth_files)}_{datetime.now().strftime('%d-%m-%y_%H_%M')}.txt\", \"w\") as f:\n",
    "    f.write(str(fad))\n",
    "    f.close()\n",
    "\n",
    "print(\"FAD={0:.4f}\".format(fad))"
   ],
   "outputs": [],
   "metadata": {}
  },
  {
   "cell_type": "code",
   "execution_count": null,
   "source": [],
   "outputs": [],
   "metadata": {}
  }
 ]
}