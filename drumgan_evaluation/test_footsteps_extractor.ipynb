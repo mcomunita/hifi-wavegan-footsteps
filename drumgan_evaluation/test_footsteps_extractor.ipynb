{
 "metadata": {
  "language_info": {
   "codemirror_mode": {
    "name": "ipython",
    "version": 3
   },
   "file_extension": ".py",
   "mimetype": "text/x-python",
   "name": "python",
   "nbconvert_exporter": "python",
   "pygments_lexer": "ipython3",
   "version": "3.8.2"
  },
  "orig_nbformat": 2,
  "kernelspec": {
   "name": "python382jvsc74a57bd0b826e582c4c6950429e4ab08d565c1942dc747a4b972bee2d4ad610561dc5dd8",
   "display_name": "Python 3.8.2 64-bit ('venv_repos': venv)"
  }
 },
 "nbformat": 4,
 "nbformat_minor": 2,
 "cells": [
  {
   "cell_type": "code",
   "execution_count": 3,
   "metadata": {},
   "outputs": [],
   "source": [
    "from data.db_extractors import footsteps_extractor"
   ]
  },
  {
   "cell_type": "code",
   "execution_count": 4,
   "metadata": {},
   "outputs": [],
   "source": [
    "path = 'audio/footsteps/'\n",
    "\n",
    "data, labels = footsteps_extractor.extract(path = path)"
   ]
  },
  {
   "cell_type": "code",
   "execution_count": 5,
   "metadata": {},
   "outputs": [
    {
     "output_type": "execute_result",
     "data": {
      "text/plain": [
       "7"
      ]
     },
     "metadata": {},
     "execution_count": 5
    }
   ],
   "source": [
    "len(set(labels))"
   ]
  },
  {
   "cell_type": "code",
   "execution_count": 6,
   "metadata": {},
   "outputs": [
    {
     "output_type": "execute_result",
     "data": {
      "text/plain": [
       "['audio/footsteps/cardboard_paper/zapsplat_foley_footstep_single_barefoot_on_cardboard_009_36503.wav',\n",
       " 'audio/footsteps/cardboard_paper/zapsplat_foley_footstep_single_barefoot_stomp_on_cardboard_003_36557.wav',\n",
       " 'audio/footsteps/cardboard_paper/zapsplat_foley_footstep_single_barefoot_on_large_sheet_of_flat_paper_014_36263.wav',\n",
       " 'audio/footsteps/cardboard_paper/zapsplat_foley_footstep_single_cardboard_flattened_many_004_19115.wav',\n",
       " 'audio/footsteps/cardboard_paper/zapsplat_foley_footstep_single_barefoot_walking_cardboard_007_64627.wav',\n",
       " 'audio/footsteps/cardboard_paper/zapsplat_foley_footstep_single_barefoot_walking_cardboard_015_64635.wav',\n",
       " 'audio/footsteps/cardboard_paper/zapsplat_foley_footstep_single_cardboard_flattened_many_002_19113.wav',\n",
       " 'audio/footsteps/cardboard_paper/zapsplat_foley_footstep_single_barefoot_walking_cardboard_001_64621.wav',\n",
       " 'audio/footsteps/cardboard_paper/zapsplat_foley_footstep_single_shoe_trainer_on_large_paper_sheet_012_36333.wav',\n",
       " 'audio/footsteps/cardboard_paper/zapsplat_foley_footstep_single_barefoot_on_cardboard_016_36510.wav']"
      ]
     },
     "metadata": {},
     "execution_count": 6
    }
   ],
   "source": [
    "data[:10]"
   ]
  }
 ]
}