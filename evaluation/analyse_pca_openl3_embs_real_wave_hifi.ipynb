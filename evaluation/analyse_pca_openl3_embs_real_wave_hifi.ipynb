{
 "cells": [
  {
   "cell_type": "code",
   "execution_count": null,
   "metadata": {},
   "outputs": [],
   "source": [
    "import os\n",
    "import torch\n",
    "import pandas as pd\n",
    "from sklearn.decomposition import PCA\n",
    "import seaborn as sns\n",
    "import matplotlib.pyplot as plt\n",
    "from matplotlib.colors import ListedColormap"
   ]
  },
  {
   "cell_type": "code",
   "execution_count": null,
   "metadata": {},
   "outputs": [],
   "source": [
    "# GPU\n",
    "n_gpu = torch.cuda.device_count()\n",
    "print(\"n_gpu: \", n_gpu)\n",
    "\n",
    "os.environ[\"CUDA_DEVICE_ORDER\"]=\"PCI_BUS_ID\"\n",
    "os.environ[\"CUDA_VISIBLE_DEVICES\"]=\"3\"\n",
    "\n",
    "if n_gpu == 0:\n",
    "    print(\"Warning: There\\'s no GPU available on this machine\")\n",
    "    device = 'cpu'\n",
    "else:\n",
    "    print(\"Visible devices: \", os.environ[\"CUDA_VISIBLE_DEVICES\"])\n",
    "    device = 'cuda:0'\n",
    "    torch.set_default_tensor_type('torch.cuda.FloatTensor')\n",
    "    print(\"Default tensor type set to torch.cuda.FloatTensor\")\n",
    "\n",
    "print(\"Device: \", device)"
   ]
  },
  {
   "cell_type": "code",
   "execution_count": null,
   "metadata": {},
   "outputs": [],
   "source": [
    "filepath_real = 'embeddings/real/openl3_embeddings_zapsplat_pack_footsteps_high_heels_1s_aligned.csv'\n",
    "filepath_wave = 'embeddings/2021-09-20_19h46m-wave/120k_large_openl3_embeddings_synth.csv'\n",
    "filepath_hifi = 'embeddings/2021-09-20_13h23m-hifi/120k_large_openl3_embeddings_synth.csv'\n",
    "\n",
    "df_real = pd.read_csv(filepath_real)\n",
    "df_wave = pd.read_csv(filepath_wave)\n",
    "df_hifi = pd.read_csv(filepath_hifi)\n",
    "\n",
    "df_all = pd.concat(\n",
    "    [\n",
    "        pd.read_csv(filepath_real), \n",
    "        pd.read_csv(filepath_wave),\n",
    "        pd.read_csv(filepath_hifi)\n",
    "    ]\n",
    ")\n",
    "\n",
    "feat_cols = [ 'openl3_'+str(i) for i in range(0,512) ]\n",
    "\n",
    "df_all[:2]"
   ]
  },
  {
   "cell_type": "code",
   "execution_count": null,
   "metadata": {},
   "outputs": [],
   "source": [
    "print(df_all.shape)\n",
    "print(df_real.shape)\n",
    "print(df_wave.shape)\n",
    "print(df_hifi.shape)"
   ]
  },
  {
   "cell_type": "code",
   "execution_count": null,
   "metadata": {},
   "outputs": [],
   "source": [
    "# PCA\n",
    "pca = PCA(n_components=3)\n",
    "pca_result = pca.fit_transform(df_all[feat_cols].values)\n",
    "df_all['pca-1'] = pca_result[:,0]\n",
    "df_all['pca-2'] = pca_result[:,1] \n",
    "df_all['pca-3'] = pca_result[:,2]\n",
    "print('Explained variation per principal component: {}'.format(pca.explained_variance_ratio_))"
   ]
  },
  {
   "cell_type": "code",
   "execution_count": null,
   "metadata": {},
   "outputs": [],
   "source": [
    "df_all[7081:14081].shape"
   ]
  },
  {
   "cell_type": "code",
   "execution_count": null,
   "metadata": {},
   "outputs": [],
   "source": [
    "# PLOT ONLY REAL SAMPLES\n",
    "\n",
    "cmap7 = ListedColormap(sns.color_palette(\"tab10\", 7).as_hex())\n",
    "\n",
    "df_subset = df_all[:81]\n",
    "\n",
    "# uncomment this to rotate 3d plots (works only on browser, not on vscode)\n",
    "# %matplotlib notebook\n",
    "%matplotlib inline\n",
    "fig = plt.figure(figsize=(10,10))\n",
    "plt.rcParams.update({'font.size': 20})\n",
    "ax = fig.add_subplot(projection='3d')\n",
    "ax.set_xlabel(\"PCA-1\", labelpad=30)\n",
    "ax.set_ylabel(\"PCA-2\", labelpad=30)\n",
    "ax.set_zlabel(\"PCA-3\", labelpad=20)\n",
    "\n",
    "classes = sorted(set(df_subset['class']))\n",
    "for i, c in enumerate(classes):\n",
    "    ax.scatter(\n",
    "        xs=df_subset[df_subset['class'] == c]['pca-1'], \n",
    "        ys=df_subset[df_subset['class'] == c]['pca-2'], \n",
    "        zs=df_subset[df_subset['class'] == c]['pca-3'],\n",
    "        c=cmap7.colors[i], \n",
    "        label=c, \n",
    "        alpha=0.7,\n",
    "        s=50)\n",
    "# ax.legend(loc=2, prop={'size': 14})\n",
    "ax.set_xlim([-5,5])\n",
    "ax.set_ylim([-5,5])\n",
    "ax.set_zlim([-5,5])\n",
    "plt.tight_layout()\n",
    "\n",
    "# plt.savefig('%s/%s' % ('pca_plots', 'real_3d_openl3_embs_same axes.jpg'), format='jpg', dpi=500, bbox_inches='tight', pad_inches=-0.0)"
   ]
  },
  {
   "cell_type": "code",
   "execution_count": null,
   "metadata": {},
   "outputs": [],
   "source": [
    "# PLOT ONLY WAVE SAMPLES\n",
    "\n",
    "cmap7 = ListedColormap(sns.color_palette(\"tab10\", 7).as_hex())\n",
    "\n",
    "df_subset = df_all[81:7081]\n",
    "\n",
    "# uncomment this to rotate 3d plots (works only on browser, not on vscode)\n",
    "# %matplotlib notebook\n",
    "%matplotlib inline\n",
    "fig = plt.figure(figsize=(10,10))\n",
    "plt.rcParams.update({'font.size': 20})\n",
    "ax = fig.add_subplot(projection='3d')\n",
    "ax.set_xlabel(\"PCA-1\", labelpad=30)\n",
    "ax.set_ylabel(\"PCA-2\", labelpad=30)\n",
    "ax.set_zlabel(\"PCA-3\", labelpad=20)\n",
    "\n",
    "classes = sorted(set(df_subset['class']))\n",
    "for i, c in enumerate(classes):\n",
    "    ax.scatter(\n",
    "        xs=df_subset[df_subset['class'] == c]['pca-1'], \n",
    "        ys=df_subset[df_subset['class'] == c]['pca-2'], \n",
    "        zs=df_subset[df_subset['class'] == c]['pca-3'],\n",
    "        c=cmap7.colors[i], \n",
    "        label=c, \n",
    "        alpha=0.7,\n",
    "        s=20)\n",
    "# ax.legend(loc=2, prop={'size': 14})\n",
    "ax.set_xlim([-5,5])\n",
    "ax.set_ylim([-5,5])\n",
    "ax.set_zlim([-5,5])\n",
    "plt.tight_layout()\n",
    "\n",
    "# plt.savefig('%s/%s' % ('pca_plots', 'wave_3d_openl3_embs_same axes.jpg'), format='jpg', dpi=500, bbox_inches='tight', pad_inches=-0.0)"
   ]
  },
  {
   "cell_type": "code",
   "execution_count": null,
   "metadata": {},
   "outputs": [],
   "source": [
    "# PLOT ONLY HIFI SAMPLES\n",
    "\n",
    "cmap7 = ListedColormap(sns.color_palette(\"tab10\", 7).as_hex())\n",
    "\n",
    "df_subset = df_all[7081:14081]\n",
    "\n",
    "# uncomment this to rotate 3d plots (works only on browser, not on vscode)\n",
    "# %matplotlib notebook\n",
    "%matplotlib inline\n",
    "fig = plt.figure(figsize=(10,10))\n",
    "plt.rcParams.update({'font.size': 20})\n",
    "ax = fig.add_subplot(projection='3d')\n",
    "ax.set_xlabel(\"PCA-1\", labelpad=30)\n",
    "ax.set_ylabel(\"PCA-2\", labelpad=30)\n",
    "ax.set_zlabel(\"PCA-3\", labelpad=20)\n",
    "\n",
    "classes = sorted(set(df_subset['class']))\n",
    "for i, c in enumerate(classes):\n",
    "    ax.scatter(\n",
    "        xs=df_subset[df_subset['class'] == c]['pca-1'], \n",
    "        ys=df_subset[df_subset['class'] == c]['pca-2'], \n",
    "        zs=df_subset[df_subset['class'] == c]['pca-3'],\n",
    "        c=cmap7.colors[i], \n",
    "        label=c, \n",
    "        alpha=0.7,\n",
    "        s=20)\n",
    "ax.legend(bbox_to_anchor=(0.95, 0.93), loc=\"upper right\")\n",
    "ax.set_xlim([-5,5])\n",
    "ax.set_ylim([-5,5])\n",
    "ax.set_zlim([-5,5])\n",
    "plt.tight_layout()\n",
    "\n",
    "# plt.savefig('%s/%s' % ('pca_plots', 'hifi_3d_openl3_embs_same axes.jpg'), format='jpg', dpi=500, bbox_inches='tight', pad_inches=-0.0)"
   ]
  },
  {
   "cell_type": "code",
   "execution_count": null,
   "metadata": {},
   "outputs": [],
   "source": []
  }
 ],
 "metadata": {
  "interpreter": {
   "hash": "b0f12b0897b6aac95a4ccbfd50bf012831105a0b659673d27dfe08e7727297b4"
  },
  "kernelspec": {
   "display_name": "Python 3.9.7 64-bit ('.venv': venv)",
   "name": "python3"
  },
  "language_info": {
   "codemirror_mode": {
    "name": "ipython",
    "version": 3
   },
   "file_extension": ".py",
   "mimetype": "text/x-python",
   "name": "python",
   "nbconvert_exporter": "python",
   "pygments_lexer": "ipython3",
   "version": "3.9.10"
  },
  "orig_nbformat": 4
 },
 "nbformat": 4,
 "nbformat_minor": 2
}
