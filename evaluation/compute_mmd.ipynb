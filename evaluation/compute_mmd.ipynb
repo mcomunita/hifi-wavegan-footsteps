{
 "cells": [
  {
   "cell_type": "code",
   "execution_count": 17,
   "metadata": {},
   "outputs": [],
   "source": [
    "import numpy as np\n",
    "import pandas as pd\n",
    "import random\n",
    "import utils_evaluation"
   ]
  },
  {
   "cell_type": "code",
   "execution_count": null,
   "metadata": {},
   "outputs": [],
   "source": [
    "filepath_embs_A = 'embeddings/2021-09-20_13h23m/120k_large_openl3_embeddings_synth.csv'\n",
    "df_A = pd.read_csv(filepath_embs_A)\n",
    "\n",
    "filepath_embs_B = 'embeddings/2021-09-20_19h46m/120k_large_openl3_embeddings_synth.csv'\n",
    "df_B = pd.read_csv(filepath_embs_B)\n",
    "\n",
    "feat_cols = [ 'openl3_'+str(i) for i in range(0,512) ]\n",
    "\n",
    "df_A[:2]"
   ]
  },
  {
   "cell_type": "code",
   "execution_count": null,
   "metadata": {},
   "outputs": [],
   "source": [
    "# MMD A vs A\n",
    "n_mmds = 1000\n",
    "n_samples_A = df_A.shape[0]\n",
    "n_samples_mmd = int(n_samples_A / 2)\n",
    "\n",
    "mmds = []\n",
    "\n",
    "for i in range(0, n_mmds):\n",
    "    print(i, end = '')\n",
    "    idx1 = sorted(random.sample(range(0, n_samples_A-1), n_samples_mmd))\n",
    "    idx2 = sorted(random.sample(range(0, n_samples_A-1), n_samples_mmd))\n",
    "    df_A_subset_1 = df_A.loc[idx1]\n",
    "    df_A_subset_2 = df_A.loc[idx2]\n",
    "    mmd = utils_evaluation.mmd(x=df_A_subset_1[feat_cols].values, y=df_A_subset_2[feat_cols].values, distance='manhattan')\n",
    "    mmds.append(mmd)\n",
    "\n",
    "print(np.average(mmds))\n",
    "print(np.std(mmds))"
   ]
  },
  {
   "cell_type": "code",
   "execution_count": null,
   "metadata": {},
   "outputs": [],
   "source": [
    "# MMD B vs B\n",
    "n_mmds = 1000\n",
    "n_samples_B = df_B.shape[0]\n",
    "n_samples_mmd = int(n_samples_B / 10)\n",
    "\n",
    "mmds = []\n",
    "\n",
    "for i in range(0, n_mmds):\n",
    "    print(i, end = ' ')\n",
    "    idx1 = sorted(random.sample(range(0, n_samples_B-1), n_samples_mmd))\n",
    "    idx2 = sorted(random.sample(range(0, n_samples_B-1), n_samples_mmd))\n",
    "    df_B_subset_1 = df_B.loc[idx1]\n",
    "    df_B_subset_2 = df_B.loc[idx2]\n",
    "    mmd = utils_evaluation.mmd(x=df_B_subset_1[feat_cols].values, y=df_B_subset_2[feat_cols].values, distance='manhattan')\n",
    "    mmds.append(mmd)\n",
    "\n",
    "print()\n",
    "print(np.average(mmds))\n",
    "print(np.std(mmds))"
   ]
  },
  {
   "cell_type": "code",
   "execution_count": null,
   "metadata": {},
   "outputs": [],
   "source": [
    "# MMD A vs B\n",
    "n_mmds = 1000\n",
    "n_samples_A = df_A.shape[0]\n",
    "n_samples_B = df_B.shape[0]\n",
    "n_samples_mmd = int(min(n_samples_A, n_samples_B) / 2)\n",
    "\n",
    "mmds = []\n",
    "\n",
    "for i in range(0, n_mmds):\n",
    "    print(i, end = ' ')\n",
    "    idx1 = sorted(random.sample(range(0, n_samples_A-1), n_samples_mmd))\n",
    "    idx2 = sorted(random.sample(range(0, n_samples_B-1), n_samples_mmd))\n",
    "    df_A_subset = df_A.loc[idx1]\n",
    "    df_B_subset = df_B.loc[idx2]\n",
    "    mmd = utils_evaluation.mmd(x=df_A_subset[feat_cols].values, y=df_B_subset[feat_cols].values, distance='manhattan')\n",
    "    mmds.append(mmd)\n",
    "print()\n",
    "print(np.average(mmds))\n",
    "print(np.std(mmds))"
   ]
  },
  {
   "cell_type": "code",
   "execution_count": null,
   "metadata": {},
   "outputs": [],
   "source": [
    "# compute single class mmd many times and extract mean and variance\n",
    "class_ = 'wood_internal'\n",
    "n_mmds = 1000\n",
    "df_real_class = pd.DataFrame(df_A[df_A['class'] == class_])\n",
    "df_synth_class = pd.DataFrame(df_B[df_B['class'] == class_])\n",
    "df_real_class.reset_index(drop=True, inplace=True)\n",
    "df_synth_class.reset_index(drop=True, inplace=True)\n",
    "n_real_samples = df_real_class.shape[0]\n",
    "n_synth_samples = df_synth_class.shape[0]\n",
    "\n",
    "mmds = []\n",
    "\n",
    "for i in range(0, n_mmds):\n",
    "    idx = sorted(random.sample(range(0, n_synth_samples-1), n_real_samples))\n",
    "    df_synth_subset = df_synth_class.loc[idx]\n",
    "    mmd = utils_evaluation.mmd(x=df_real_class[feat_cols].values, y=df_synth_subset[feat_cols].values, distance='euclidean')\n",
    "    mmds.append(mmd)\n",
    "\n",
    "print(np.average(mmds))\n",
    "print(np.std(mmds))"
   ]
  },
  {
   "cell_type": "code",
   "execution_count": null,
   "metadata": {},
   "outputs": [],
   "source": []
  }
 ],
 "metadata": {
  "interpreter": {
   "hash": "b0f12b0897b6aac95a4ccbfd50bf012831105a0b659673d27dfe08e7727297b4"
  },
  "kernelspec": {
   "display_name": "Python 3.9.7 64-bit ('.venv': venv)",
   "name": "python3"
  },
  "language_info": {
   "codemirror_mode": {
    "name": "ipython",
    "version": 3
   },
   "file_extension": ".py",
   "mimetype": "text/x-python",
   "name": "python",
   "nbconvert_exporter": "python",
   "pygments_lexer": "ipython3",
   "version": "3.9.7"
  },
  "orig_nbformat": 4
 },
 "nbformat": 4,
 "nbformat_minor": 2
}
