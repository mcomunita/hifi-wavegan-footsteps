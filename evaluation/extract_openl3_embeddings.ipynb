{
 "cells": [
  {
   "cell_type": "code",
   "execution_count": null,
   "source": [
    "import os\n",
    "import csv\n",
    "import numpy as np\n",
    "import torch\n",
    "import utils\n",
    "import torchopenl3"
   ],
   "outputs": [],
   "metadata": {}
  },
  {
   "cell_type": "code",
   "execution_count": null,
   "source": [
    "# GPU\n",
    "n_gpu = torch.cuda.device_count()\n",
    "print(\"n_gpu: \", n_gpu)\n",
    "\n",
    "os.environ[\"CUDA_DEVICE_ORDER\"]=\"PCI_BUS_ID\"\n",
    "os.environ[\"CUDA_VISIBLE_DEVICES\"]=\"3\"\n",
    "\n",
    "if n_gpu == 0:\n",
    "    print(\"Warning: There\\'s no GPU available on this machine\")\n",
    "    device = 'cpu'\n",
    "else:\n",
    "    print(\"Visible devices: \", os.environ[\"CUDA_VISIBLE_DEVICES\"])\n",
    "    device = 'cuda:0'\n",
    "    torch.set_default_tensor_type('torch.cuda.FloatTensor')\n",
    "    print(\"Default tensor type set to torch.cuda.FloatTensor\")\n",
    "\n",
    "print(\"Device: \", device)"
   ],
   "outputs": [],
   "metadata": {}
  },
  {
   "cell_type": "code",
   "execution_count": null,
   "source": [
    "# samples_path = '../../_data/zapsplat_pack_footsteps_high_heels_1s_aligned'\n",
    "samples_path = '../../_data/zapsplat_misc_shoes_misc_surfaces_inception_network'\n",
    "# samples_path = '../checkpoints/2021-09-20_19h46m/120k_generated_audio_large'\n",
    "embs_folder = \"embeddings/real\"\n",
    "csv_filename = 'openl3_embeddings_zapsplat_misc_shoes_misc_surfaces_inception_network.csv'\n",
    "if not os.path.exists(f'{embs_folder}'):\n",
    "    os.makedirs(f'{embs_folder}')\n",
    "\n",
    "input_repr = 'mel256'   # \"linear\", \"mel128\" (default), \"mel256\"\n",
    "content_type = 'env'    # “env” (environmental), “music” (default)\n",
    "embedding_size = 512    # 512, 6144 (default)"
   ],
   "outputs": [],
   "metadata": {}
  },
  {
   "cell_type": "code",
   "execution_count": null,
   "source": [
    "# get embeddings and export to csv\n",
    "model = torchopenl3.models.load_audio_embedding_model(\n",
    "                            input_repr=input_repr, \n",
    "                            content_type=content_type,\n",
    "                            embedding_size=embedding_size\n",
    "                            )\n",
    "openl3_embs = utils.get_openl3_embs_subfolders(model, path=samples_path)"
   ],
   "outputs": [],
   "metadata": {}
  },
  {
   "cell_type": "code",
   "execution_count": 6,
   "source": [
    "# write to csv\n",
    "embs_to_csv = []\n",
    "for row in openl3_embs:\n",
    "    emb = [row[0], row[1]]\n",
    "    for el in row[2]:\n",
    "        emb.append(el)\n",
    "    embs_to_csv.append(emb)\n",
    "\n",
    "fields = ['class', 'filename']\n",
    "for i in range(512):\n",
    "    fields.append(f'openl3_{i}')\n",
    "\n",
    "with open(f'{embs_folder}/{csv_filename}', 'w') as f:\n",
    "    write = csv.writer(f)\n",
    "    write.writerow(fields)\n",
    "    write.writerows(embs_to_csv)"
   ],
   "outputs": [],
   "metadata": {}
  },
  {
   "cell_type": "code",
   "execution_count": null,
   "source": [],
   "outputs": [],
   "metadata": {}
  }
 ],
 "metadata": {
  "orig_nbformat": 4,
  "language_info": {
   "name": "python",
   "version": "3.8.2",
   "mimetype": "text/x-python",
   "codemirror_mode": {
    "name": "ipython",
    "version": 3
   },
   "pygments_lexer": "ipython3",
   "nbconvert_exporter": "python",
   "file_extension": ".py"
  },
  "kernelspec": {
   "name": "python3",
   "display_name": "Python 3.8.2 64-bit ('.venv': venv)"
  },
  "interpreter": {
   "hash": "5653f0802a9a27c30e95b5ad244b882d9b87992a617df056db1cd410e98929e3"
  }
 },
 "nbformat": 4,
 "nbformat_minor": 2
}