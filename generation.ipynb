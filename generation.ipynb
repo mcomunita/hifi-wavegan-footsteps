{
 "cells": [
  {
   "cell_type": "markdown",
   "metadata": {},
   "source": [
    "## Synthesising single samples from a trained model"
   ]
  },
  {
   "cell_type": "code",
   "execution_count": null,
   "metadata": {},
   "outputs": [],
   "source": [
    "import numpy as np\n",
    "import json\n",
    "from IPython.display import display, Audio\n",
    "from tqdm import tqdm\n",
    "import soundfile\n",
    "import os\n",
    "import torch\n",
    "\n",
    "from models import ccwavegan_gen_xs"
   ]
  },
  {
   "cell_type": "code",
   "execution_count": null,
   "metadata": {},
   "outputs": [],
   "source": [
    "# GPU\n",
    "# n_gpu = torch.cuda.device_count()\n",
    "# print(\"n_gpu: \", n_gpu)\n",
    "\n",
    "# os.environ[\"CUDA_DEVICE_ORDER\"]=\"PCI_BUS_ID\"\n",
    "# os.environ[\"CUDA_VISIBLE_DEVICES\"]=\"0\"\n",
    "\n",
    "# visible_gpu = os.environ[\"CUDA_VISIBLE_DEVICES\"]\n",
    "# print(\"visible_gpus: \", visible_gpu)\n",
    "\n",
    "# if visible_gpu == 0:\n",
    "#     print(\"Warning: There\\'s no GPU available on this machine\")\n",
    "#     device = 'cpu'\n",
    "# else:\n",
    "#     device = 'cuda:0'\n",
    "#     torch.set_default_tensor_type('torch.cuda.FloatTensor')\n",
    "#     print(\"Default tensor type set to torch.cuda.FloatTensor\")\n",
    "\n",
    "# print(\"Device: \", device)"
   ]
  },
  {
   "cell_type": "markdown",
   "metadata": {},
   "source": [
    "#### Get the trained model and class labels"
   ]
  },
  {
   "cell_type": "code",
   "execution_count": null,
   "metadata": {},
   "outputs": [],
   "source": [
    "path_to_model = 'checkpoints/2021-09-20_13h23m-hifi/120000_batch_model.pth'\n",
    "path_to_labels = 'checkpoints/2021-09-20_13h23m-hifi/label_names.json'\n",
    "path_to_output = 'checkpoints/2021-09-20_13h23m-hifi/120k_generated_audio_'\n",
    "if not os.path.exists(path_to_output):\n",
    "    os.makedirs(path_to_output)\n",
    "\n",
    "z_dim = 100\n",
    "sample_rate = 16000"
   ]
  },
  {
   "cell_type": "code",
   "execution_count": null,
   "metadata": {},
   "outputs": [],
   "source": [
    "#load the generator\n",
    "model = torch.load(path_to_model, map_location=torch.device('cpu'))\n",
    "\n",
    "generator = ccwavegan_gen_xs.CCWaveGANGenerator(\n",
    "    latent_dim=100,\n",
    "    n_classes=7,\n",
    "    verbose=False,\n",
    "    upsample_mode='zeros'\n",
    ")\n",
    "\n",
    "generator.load_state_dict(model['g_state_dict'])"
   ]
  },
  {
   "cell_type": "code",
   "execution_count": null,
   "metadata": {},
   "outputs": [],
   "source": [
    "#read the labels from the generated dictionary during training\n",
    "with open(path_to_labels) as json_file:\n",
    "    label_names = json.load(json_file)\n",
    "label_names"
   ]
  },
  {
   "cell_type": "markdown",
   "metadata": {},
   "source": [
    "#### Generating a single sample (with label)"
   ]
  },
  {
   "cell_type": "code",
   "execution_count": null,
   "metadata": {},
   "outputs": [],
   "source": [
    "generator.eval()\n",
    "\n",
    "#create noise and label\n",
    "label = 0\n",
    "noise = torch.normal(mean=0, std=1, size=(1, z_dim))\n",
    "label_synth = torch.tensor([label], dtype=torch.int)\n",
    "\n",
    "#synthesise the audio\n",
    "%time synth_audio = generator(noise, label_synth)\n",
    "\n",
    "torch.squeeze(synth_audio)\n",
    "\n",
    "display(Audio(synth_audio[0].detach().cpu().numpy(), rate = sample_rate))"
   ]
  },
  {
   "cell_type": "code",
   "execution_count": null,
   "metadata": {},
   "outputs": [],
   "source": [
    "import timeit\n",
    "\n",
    "code = '''_ = generator(noise, label_synth)'''\n",
    "setup = ''\n",
    "\n",
    "timeit.repeat(setup=setup, stmt=code, repeat=3)"
   ]
  },
  {
   "cell_type": "code",
   "execution_count": null,
   "metadata": {},
   "outputs": [],
   "source": [
    "# GPU generation time\n",
    "\n",
    "#create noise and label\n",
    "label = 0\n",
    "noise = torch.normal(mean=0, std=1, size=(1, z_dim))\n",
    "label_synth = torch.tensor([label], dtype=torch.int)\n",
    "\n",
    "generator.eval()\n",
    "starter, ender = torch.cuda.Event(enable_timing=True), torch.cuda.Event(enable_timing=True)\n",
    "repetitions = 10000\n",
    "timings=np.zeros((repetitions,1))\n",
    "\n",
    "#GPU-WARM-UP\n",
    "for _ in range(10):\n",
    "   _ = generator(noise, label_synth)\n",
    "\n",
    "# MEASURE PERFORMANCE\n",
    "with torch.no_grad():\n",
    "  for rep in range(repetitions):\n",
    "     starter.record()\n",
    "     _ = generator(noise, label_synth)\n",
    "     ender.record()\n",
    "     # WAIT FOR GPU SYNC\n",
    "     torch.cuda.synchronize()\n",
    "     curr_time = starter.elapsed_time(ender)\n",
    "     timings[rep] = curr_time\n",
    "mean_syn = np.sum(timings) / repetitions\n",
    "std_syn = np.std(timings)\n",
    "print(\"mean time (ms): \", mean_syn)\n",
    "print(\"std time (ms): \", std_syn)"
   ]
  },
  {
   "cell_type": "markdown",
   "metadata": {},
   "source": [
    "### Batch generation"
   ]
  },
  {
   "cell_type": "code",
   "execution_count": null,
   "metadata": {},
   "outputs": [],
   "source": [
    "#how many samples per label\n",
    "n_samples_label = 10"
   ]
  },
  {
   "cell_type": "code",
   "execution_count": null,
   "metadata": {},
   "outputs": [],
   "source": [
    "for _class in tqdm(label_names):\n",
    "    if not os.path.exists(f'{path_to_output}/{label_names[_class]}'):\n",
    "        os.makedirs(f'{path_to_output}/{label_names[_class]}')\n",
    "    noise  = torch.normal(mean=0, std=1, size=(n_samples_label, z_dim))\n",
    "    label_synth = torch.full((n_samples_label,1), int(_class))\n",
    "    synth_audio = generator(noise, label_synth)\n",
    "    for i in range(n_samples_label):\n",
    "        soundfile.write(\n",
    "            file = '%s/%s/%s_%s.wav' % (path_to_output, label_names[_class], label_names[_class], i),\n",
    "            data = np.squeeze(synth_audio[i].detach().cpu().numpy()), \n",
    "            samplerate = sample_rate\n",
    "            )"
   ]
  },
  {
   "cell_type": "code",
   "execution_count": null,
   "metadata": {},
   "outputs": [],
   "source": []
  }
 ],
 "metadata": {
  "interpreter": {
   "hash": "a18414266d1fe564a0e177a99f7f802d49b8033beeeff472af87ae486bfa274b"
  },
  "kernelspec": {
   "display_name": "Python 3.9.7 64-bit ('.venv': venv)",
   "name": "python3"
  },
  "language_info": {
   "codemirror_mode": {
    "name": "ipython",
    "version": 3
   },
   "file_extension": ".py",
   "mimetype": "text/x-python",
   "name": "python",
   "nbconvert_exporter": "python",
   "pygments_lexer": "ipython3",
   "version": "3.9.8"
  },
  "metadata": {
   "interpreter": {
    "hash": "7dec5ff5d6426847cd6c7148fdbbe285e2b2171f524f3f98caac6b5985927ebd"
   }
  }
 },
 "nbformat": 4,
 "nbformat_minor": 4
}
